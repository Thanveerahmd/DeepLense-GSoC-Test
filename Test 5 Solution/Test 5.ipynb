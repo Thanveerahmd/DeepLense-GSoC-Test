{
 "cells": [
  {
   "cell_type": "markdown",
   "id": "b9cff508",
   "metadata": {},
   "source": [
    "# Test 5 -  Exploring Transformers\n",
    "\n",
    "**Author:** [Thanveer ahamed](developer.thanveer@gmail.com | https://github.com/Thanveerahmd)<br>\n",
    "**Date created:** 2023/03/31<br>\n",
    "**Description:** Compact Convolutional Transformer for detecting simulated strong gravitational lensing images with and without substructure."
   ]
  },
  {
   "cell_type": "markdown",
   "id": "8a1b8805",
   "metadata": {},
   "source": [
    "# Imports"
   ]
  },
  {
   "cell_type": "code",
   "execution_count": null,
   "id": "406b9551",
   "metadata": {},
   "outputs": [],
   "source": [
    "import tensorflow as tf\n",
    "import pdb\n",
    "import numpy as np\n",
    "import tensorflow_addons as tfa\n",
    "import os\n",
    "import itertools\n",
    "import matplotlib.pyplot as plt\n",
    "\n",
    "from tensorflow import keras\n",
    "from tensorflow.keras import layers\n",
    "from PIL import Image\n",
    "from sklearn.model_selection import train_test_split\n",
    "from sklearn.metrics import classification_report, confusion_matrix, roc_auc_score, roc_curve, auc\n",
    "from sklearn.preprocessing import binarize"
   ]
  },
  {
   "cell_type": "markdown",
   "id": "b43e71f1",
   "metadata": {},
   "source": [
    "# Data Loading"
   ]
  },
  {
   "cell_type": "code",
   "execution_count": 3,
   "id": "82439845",
   "metadata": {},
   "outputs": [],
   "source": [
    "DATAPATH = './lenses' # Root path of data\n",
    "OUTPATH = './output' # Storing output\n",
    "os.makedirs(OUTPATH, exist_ok=True)\n",
    "SAVEPATH = os.path.join(OUTPATH, 'weights') # For storing model weights\n",
    "os.makedirs(SAVEPATH)\n",
    "CKP_PATH = os.path.join(SAVEPATH, 'ckp')\n",
    "\n",
    "CATEGORIES = ('no_sub', 'sub') # Labels: no_sub=0, sub=1"
   ]
  },
  {
   "cell_type": "code",
   "execution_count": 4,
   "id": "8c218e3f",
   "metadata": {},
   "outputs": [],
   "source": [
    "def load_data(root, categories):\n",
    "    \"\"\"Loads examples and labels into numpy arrays  \"\"\"\n",
    "    x, y = [], []\n",
    "\n",
    "    for index, category in enumerate(categories):\n",
    "        for filename in os.scandir(os.path.join(root, category)):\n",
    "            filedata = np.asarray(Image.open(filename.path))\n",
    "            x.append(filedata)\n",
    "            y.append(index) # Labels: no_sub=0, sub=1\n",
    "  \n",
    "    x = np.expand_dims(np.array(x), axis=-1) # add channel axis\n",
    "    y = np.array(y)\n",
    "\n",
    "    return x, y"
   ]
  },
  {
   "cell_type": "code",
   "execution_count": 5,
   "id": "a506935e",
   "metadata": {},
   "outputs": [
    {
     "name": "stdout",
     "output_type": "stream",
     "text": [
      "Shape of X: (10000, 150, 150, 1)\n",
      "Shape of Y: (10000,)\n"
     ]
    }
   ],
   "source": [
    "X, y = load_data(DATAPATH, CATEGORIES)\n",
    "\n",
    "print(f'Shape of X: {X.shape}')\n",
    "print(f'Shape of Y: {y.shape}')"
   ]
  },
  {
   "cell_type": "code",
   "execution_count": 6,
   "id": "bddc7c7f",
   "metadata": {},
   "outputs": [],
   "source": [
    "# Split data into train and test sets\n",
    "X_train, X_test, y_train, y_test = train_test_split(X, y, test_size=0.1, random_state=42)\n",
    "\n",
    "# Split train data into train and validation sets\n",
    "X_train, X_val, y_train, y_val = train_test_split(X_train, y_train, test_size=0.1,random_state=42)\n"
   ]
  },
  {
   "cell_type": "code",
   "execution_count": 7,
   "id": "c559503a",
   "metadata": {},
   "outputs": [
    {
     "name": "stdout",
     "output_type": "stream",
     "text": [
      "Shape of X_train: (8100, 150, 150, 1)\n",
      "Shape of y_train: (8100,)\n",
      "Shape of X_test: (1000, 150, 150, 1)\n",
      "Shape of y_train: (8100,)\n",
      "Shape of X_val: (900, 150, 150, 1)\n",
      "Shape of y_val: (900,)\n"
     ]
    }
   ],
   "source": [
    "print(f'Shape of X_train: {X_train.shape}')\n",
    "print(f'Shape of y_train: {y_train.shape}')\n",
    "print(f'Shape of X_test: {X_test.shape}')\n",
    "print(f'Shape of y_train: {y_train.shape}')\n",
    "print(f'Shape of X_val: {X_val.shape}')\n",
    "print(f'Shape of y_val: {y_val.shape}')"
   ]
  },
  {
   "cell_type": "markdown",
   "id": "2d55b06f",
   "metadata": {},
   "source": [
    "## Visualize data"
   ]
  },
  {
   "cell_type": "code",
   "execution_count": 8,
   "id": "3d62119a",
   "metadata": {},
   "outputs": [
    {
     "data": {
      "image/png": "[encoded data removed]",
      "text/plain": [
       "<Figure size 432x288 with 1 Axes>"
      ]
     },
     "metadata": {
      "needs_background": "light"
     },
     "output_type": "display_data"
    }
   ],
   "source": [
    "# Display random instance of data\n",
    "idx = np.random.default_rng().integers(0, len(X_train))\n",
    "_ = plt.imshow(X_train[idx].squeeze(), cmap='gray')\n",
    "_ = plt.title(f'Label: {y_train[idx]} {CATEGORIES[y_train[idx]]}')"
   ]
  },
  {
   "cell_type": "markdown",
   "id": "bb2153b0",
   "metadata": {},
   "source": [
    "# Data pre-processing "
   ]
  },
  {
   "cell_type": "code",
   "execution_count": 9,
   "id": "899ca6b2",
   "metadata": {},
   "outputs": [],
   "source": [
    "def standardize(x, datatype, root):\n",
    "    '''Standardize image examples'''\n",
    "    # Make image contrast similar across all images\n",
    "    x = x - np.mean(x, axis=(1, 2), keepdims=True)\n",
    "  \n",
    "    if datatype == 'train':\n",
    "        # Center around origin\n",
    "        mean = np.mean(x, axis=(0, 1, 2), keepdims=True)\n",
    "        std = np.std(x, axis=(0, 1, 2), keepdims=True)\n",
    "\n",
    "        # Save mean and std for validation/test data\n",
    "        np.save(os.path.join(root, 'mean'), mean)\n",
    "        np.save(os.path.join(root, 'std'), std)\n",
    "    else:\n",
    "        try:\n",
    "            mean = np.load(os.path.join(root, 'mean.npy'))\n",
    "            std = np.load(os.path.join(root, 'std.npy'))\n",
    "        except FileNotFoundError as _:\n",
    "            raise FileNotFoundError('Standardizing info files (mean.npy and std.npy) not found')\n",
    "  \n",
    "    x = (x - mean) / std\n",
    "    return x"
   ]
  },
  {
   "cell_type": "code",
   "execution_count": 10,
   "id": "bf3c138d",
   "metadata": {},
   "outputs": [],
   "source": [
    "# Standardize data\n",
    "X_train = standardize(X_train, 'train', OUTPATH)\n",
    "X_test = standardize(X_test, 'test', OUTPATH)\n",
    "X_val = standardize(X_val, 'val', OUTPATH)"
   ]
  },
  {
   "cell_type": "markdown",
   "id": "78d40b8e",
   "metadata": {},
   "source": [
    "# Compact Convolutional Transformer Model "
   ]
  },
  {
   "cell_type": "markdown",
   "id": "4dbefc29",
   "metadata": {},
   "source": [
    "## Hyper parameters"
   ]
  },
  {
   "cell_type": "code",
   "execution_count": 11,
   "id": "a62f86ff",
   "metadata": {},
   "outputs": [],
   "source": [
    "positional_emb = True\n",
    "conv_layers = 2\n",
    "projection_dim = 128\n",
    "\n",
    "num_heads = 2\n",
    "transformer_units = [\n",
    "    projection_dim,\n",
    "    projection_dim,\n",
    "]\n",
    "transformer_layers = 2\n",
    "stochastic_depth_rate = 0.1\n",
    "\n",
    "learning_rate = 0.001\n",
    "weight_decay = 0.0001\n",
    "batch_size = 32\n",
    "num_epochs = 50\n",
    "image_size = X_train.shape[1]\n",
    "\n",
    "input_shape = (150,150, 1)"
   ]
  },
  {
   "cell_type": "markdown",
   "id": "e04537e4",
   "metadata": {},
   "source": [
    "## Model architecture"
   ]
  },
  {
   "cell_type": "code",
   "execution_count": 12,
   "id": "160a81c5",
   "metadata": {},
   "outputs": [],
   "source": [
    "class CCTTokenizer(layers.Layer):\n",
    "    def __init__(\n",
    "        self,\n",
    "        kernel_size=3,\n",
    "        stride=1,\n",
    "        padding=1,\n",
    "        pooling_kernel_size=3,\n",
    "        pooling_stride=2,\n",
    "        num_conv_layers=conv_layers,\n",
    "        num_output_channels=[64, 128],\n",
    "        positional_emb=positional_emb,\n",
    "        **kwargs,\n",
    "    ):\n",
    "        super().__init__(**kwargs)\n",
    "\n",
    "        # This is our tokenizer.\n",
    "        self.conv_model = keras.Sequential()\n",
    "        for i in range(num_conv_layers):\n",
    "            self.conv_model.add(\n",
    "                layers.Conv2D(\n",
    "                    num_output_channels[i],\n",
    "                    kernel_size,\n",
    "                    stride,\n",
    "                    padding=\"valid\",\n",
    "                    use_bias=False,\n",
    "                    activation=\"relu\",\n",
    "                    kernel_initializer=\"he_normal\",\n",
    "                )\n",
    "            )\n",
    "            self.conv_model.add(layers.ZeroPadding2D(padding))\n",
    "            self.conv_model.add(\n",
    "                layers.MaxPool2D(pooling_kernel_size, pooling_stride, \"same\")\n",
    "            )\n",
    "\n",
    "        self.positional_emb = positional_emb\n",
    "\n",
    "    def call(self, images):\n",
    "        outputs = self.conv_model(images)\n",
    "        # After passing the images through our mini-network the spatial dimensions\n",
    "        # are flattened to form sequences.\n",
    "        reshaped = tf.reshape(\n",
    "            outputs,\n",
    "            (-1, tf.shape(outputs)[1] * tf.shape(outputs)[2], tf.shape(outputs)[-1]),\n",
    "        )\n",
    "        return reshaped\n",
    "\n",
    "    def positional_embedding(self, image_size):\n",
    "        # Positional embeddings are optional in CCT. Here, we calculate\n",
    "        # the number of sequences and initialize an `Embedding` layer to\n",
    "        # compute the positional embeddings later.\n",
    "        if self.positional_emb:\n",
    "            dummy_inputs = tf.ones((1, image_size, image_size, 1))\n",
    "            dummy_outputs = self.call(dummy_inputs)\n",
    "            sequence_length = tf.shape(dummy_outputs)[1]\n",
    "            projection_dim = tf.shape(dummy_outputs)[-1]\n",
    "\n",
    "            embed_layer = layers.Embedding(\n",
    "                input_dim=sequence_length, output_dim=projection_dim\n",
    "            )\n",
    "            return embed_layer, sequence_length\n",
    "        else:\n",
    "            return None"
   ]
  },
  {
   "cell_type": "code",
   "execution_count": 13,
   "id": "7e4386d1",
   "metadata": {},
   "outputs": [],
   "source": [
    "class StochasticDepth(layers.Layer):\n",
    "    def __init__(self, drop_prop, **kwargs):\n",
    "        super().__init__(**kwargs)\n",
    "        self.drop_prob = drop_prop\n",
    "\n",
    "    def call(self, x, training=None):\n",
    "        if training:\n",
    "            keep_prob = 1 - self.drop_prob\n",
    "            shape = (tf.shape(x)[0],) + (1,) * (tf.shape(x).shape[0] - 1)\n",
    "            random_tensor = keep_prob + tf.random.uniform(shape, 0, 1)\n",
    "            random_tensor = tf.floor(random_tensor)\n",
    "            return (x / keep_prob) * random_tensor\n",
    "        return x"
   ]
  },
  {
   "cell_type": "code",
   "execution_count": 14,
   "id": "2bf6de7e",
   "metadata": {},
   "outputs": [],
   "source": [
    "def mlp(x, hidden_units, dropout_rate):\n",
    "    for units in hidden_units:\n",
    "        x = layers.Dense(units, activation=tf.nn.gelu)(x)\n",
    "        x = layers.Dropout(dropout_rate)(x)\n",
    "    return x"
   ]
  },
  {
   "cell_type": "code",
   "execution_count": 15,
   "id": "61a36a04",
   "metadata": {},
   "outputs": [],
   "source": [
    "# Note the rescaling layer. These layers have pre-defined inference behavior.\n",
    "data_augmentation = keras.Sequential(\n",
    "    [RandomFlip(),\n",
    "     RandomRotation(0.5),\n",
    "     RandomZoom(height_factor=0.2, width_factor=0.2)],\n",
    "    name=\"data_augmentation\",\n",
    ")"
   ]
  },
  {
   "cell_type": "code",
   "execution_count": 16,
   "id": "0c6548ea",
   "metadata": {},
   "outputs": [],
   "source": [
    "def create_cct_model(\n",
    "    image_size=image_size,\n",
    "    input_shape=input_shape,\n",
    "    num_heads=num_heads,\n",
    "    projection_dim=projection_dim,\n",
    "    transformer_units=transformer_units,\n",
    "):\n",
    "\n",
    "    inputs = layers.Input(input_shape)\n",
    "\n",
    "    # Augment data.\n",
    "    augmented = data_augmentation(inputs)\n",
    "\n",
    "    # Encode patches.\n",
    "    cct_tokenizer = CCTTokenizer()\n",
    "    encoded_patches = cct_tokenizer(augmented)\n",
    "\n",
    "    # Apply positional embedding.\n",
    "    if positional_emb:\n",
    "        pos_embed, seq_length = cct_tokenizer.positional_embedding(image_size)\n",
    "        positions = tf.range(start=0, limit=seq_length, delta=1)\n",
    "        position_embeddings = pos_embed(positions)\n",
    "        encoded_patches += position_embeddings\n",
    "\n",
    "    # Calculate Stochastic Depth probabilities.\n",
    "    dpr = [x for x in np.linspace(0, stochastic_depth_rate, transformer_layers)]\n",
    "\n",
    "    # Create multiple layers of the Transformer block.\n",
    "    for i in range(transformer_layers):\n",
    "        # Layer normalization 1.\n",
    "        x1 = layers.LayerNormalization(epsilon=1e-5)(encoded_patches)\n",
    "\n",
    "        # Create a multi-head attention layer.\n",
    "        attention_output = layers.MultiHeadAttention(\n",
    "            num_heads=num_heads, key_dim=projection_dim, dropout=0.1\n",
    "        )(x1, x1)\n",
    "\n",
    "        # Skip connection 1.\n",
    "        attention_output = StochasticDepth(dpr[i])(attention_output)\n",
    "        x2 = layers.Add()([attention_output, encoded_patches])\n",
    "\n",
    "        # Layer normalization 2.\n",
    "        x3 = layers.LayerNormalization(epsilon=1e-5)(x2)\n",
    "\n",
    "        # MLP.\n",
    "        x3 = mlp(x3, hidden_units=transformer_units, dropout_rate=0.1)\n",
    "\n",
    "        # Skip connection 2.\n",
    "        x3 = StochasticDepth(dpr[i])(x3)\n",
    "        encoded_patches = layers.Add()([x3, x2])\n",
    "\n",
    "    # Apply sequence pooling.\n",
    "    representation = layers.LayerNormalization(epsilon=1e-5)(encoded_patches)\n",
    "    attention_weights = tf.nn.softmax(layers.Dense(1)(representation), axis=1)\n",
    "    weighted_representation = tf.matmul(\n",
    "        attention_weights, representation, transpose_a=True\n",
    "    )\n",
    "    weighted_representation = tf.squeeze(weighted_representation, -2)\n",
    "\n",
    "    # Classify outputs.\n",
    "    logits = layers.Dense(1, activation='sigmoid', name='classifier')(weighted_representation)\n",
    "    # Create the Keras model.\n",
    "    model = keras.Model(inputs=inputs, outputs=logits)\n",
    "    return model"
   ]
  },
  {
   "cell_type": "markdown",
   "id": "7b7cf7ed",
   "metadata": {},
   "source": [
    "## utility functions "
   ]
  },
  {
   "cell_type": "code",
   "execution_count": 17,
   "id": "93affda1",
   "metadata": {},
   "outputs": [],
   "source": [
    "class RandomSampleGenerator(keras.utils.Sequence):\n",
    "    '''\n",
    "    Generates batches containing equal number of positive and negative examples\n",
    "    to rectify any class imbalance in data\n",
    "    '''\n",
    "    def __init__(self, x, y, batch_size, seed=None):\n",
    "        self.x_positive = x[y == 1]\n",
    "        self.y_positive = y[y == 1]\n",
    "\n",
    "        self.x_negative = x[y == 0]\n",
    "        self.y_negative = y[y == 0]\n",
    "\n",
    "        self.epoch_length = len(x) // batch_size\n",
    "        self.batch_size = batch_size\n",
    "        self.seed = seed\n",
    "        self.reset()\n",
    "\n",
    "    def reset(self):\n",
    "        # Reset random number generator\n",
    "        self.rng = np.random.default_rng(self.seed)\n",
    "\n",
    "    def __len__(self):\n",
    "        return self.epoch_length\n",
    "\n",
    "    def __getitem__(self, idx):\n",
    "        # Positive samples\n",
    "        batch_positive_indices = self.rng.choice(self.x_positive.shape[0],\n",
    "                                                 self.batch_size // 2,\n",
    "                                                 replace=False)\n",
    "        batch_x_positive = self.x_positive[batch_positive_indices]\n",
    "        batch_y_positive = self.y_positive[batch_positive_indices]\n",
    "\n",
    "        # Negative samples\n",
    "        batch_negative_indices = self.rng.choice(self.x_negative.shape[0],\n",
    "                                                 int(np.ceil(self.batch_size / 2)),\n",
    "                                                 replace=False)\n",
    "        batch_x_negative = self.x_negative[batch_negative_indices]\n",
    "        batch_y_negative = self.y_negative[batch_negative_indices]\n",
    "\n",
    "        # Concat both samples\n",
    "        batch_x = np.concatenate((batch_x_positive, batch_x_negative))\n",
    "        batch_y = np.concatenate((batch_y_positive, batch_y_negative))\n",
    "\n",
    "        return batch_x, batch_y"
   ]
  },
  {
   "cell_type": "code",
   "execution_count": 18,
   "id": "e51964d1",
   "metadata": {},
   "outputs": [],
   "source": [
    "class TrackBestPerformance(keras.callbacks.Callback):\n",
    "    '''\n",
    "    Callback to keep track of model weights which give best val_auc\n",
    "    After training completes, the model is assigned with the best model weights\n",
    "    '''\n",
    "    def __init__(self, ckp_path, save_every=15, **kwargs):\n",
    "        super().__init__(**kwargs)\n",
    "        self.best_auc = 0\n",
    "        self.best_epoch = -1\n",
    "        self.best_weights = None\n",
    "        self.ckp_path = ckp_path\n",
    "        self.save_every = save_every\n",
    "  \n",
    "    def on_epoch_end(self, epoch, logs=None):\n",
    "        '''Track best val_auc and corresponding weights'''\n",
    "        current_auc = logs['val_auc']\n",
    "        if current_auc >= self.best_auc:\n",
    "            self.best_auc = current_auc\n",
    "            self.best_epoch = epoch\n",
    "            self.best_weights = self.model.get_weights()\n",
    "        if epoch % self.save_every == 0:\n",
    "            self.model.save_weights(self.ckp_path)\n",
    "  \n",
    "    def on_train_end(self, logs=None):\n",
    "        '''Reassign model weights to the one with the best val_auc'''\n",
    "        self.model.set_weights(self.best_weights)\n",
    "        self.model.save_weights(self.ckp_path)\n",
    "        print(f'\\nBest validation AUC is {self.best_auc} '\n",
    "              f'on epoch #{self.best_epoch + 1}')"
   ]
  },
  {
   "cell_type": "markdown",
   "id": "78e34693",
   "metadata": {},
   "source": [
    "# Training the Model"
   ]
  },
  {
   "cell_type": "code",
   "execution_count": 19,
   "id": "72bd394d",
   "metadata": {},
   "outputs": [],
   "source": [
    "# Instantiate new model\n",
    "model = create_cct_model()\n",
    "\n",
    "optimizer = tfa.optimizers.AdamW(learning_rate=0.001, weight_decay=0.0001)\n",
    "\n",
    "model.compile(\n",
    "        optimizer=optimizer,\n",
    "        loss=tf.keras.losses.BinaryCrossentropy(),\n",
    "        metrics=[\n",
    "            keras.metrics.CategoricalAccuracy(name=\"accuracy\"),\n",
    "            keras.metrics.AUC(name='auc')\n",
    "        ],\n",
    "    )\n",
    "\n",
    "model._name  = 'LensCCT'"
   ]
  },
  {
   "cell_type": "code",
   "execution_count": 20,
   "id": "71d4e0e2",
   "metadata": {},
   "outputs": [
    {
     "name": "stdout",
     "output_type": "stream",
     "text": [
      "Model: \"LensCCT\"\n",
      "__________________________________________________________________________________________________\n",
      " Layer (type)                   Output Shape         Param #     Connected to                     \n",
      "==================================================================================================\n",
      " input_1 (InputLayer)           [(None, 150, 150, 1  0           []                               \n",
      "                                )]                                                                \n",
      "                                                                                                  \n",
      " data_augmentation (Sequential)  (None, 150, 150, 1)  0          ['input_1[0][0]']                \n",
      "                                                                                                  \n",
      " cct_tokenizer (CCTTokenizer)   (None, 1444, 128)    74304       ['data_augmentation[0][0]']      \n",
      "                                                                                                  \n",
      " tf.__operators__.add (TFOpLamb  (None, 1444, 128)   0           ['cct_tokenizer[0][0]']          \n",
      " da)                                                                                              \n",
      "                                                                                                  \n",
      " layer_normalization (LayerNorm  (None, 1444, 128)   256         ['tf.__operators__.add[0][0]']   \n",
      " alization)                                                                                       \n",
      "                                                                                                  \n",
      " multi_head_attention (MultiHea  (None, 1444, 128)   131968      ['layer_normalization[0][0]',    \n",
      " dAttention)                                                      'layer_normalization[0][0]']    \n",
      "                                                                                                  \n",
      " stochastic_depth (StochasticDe  (None, 1444, 128)   0           ['multi_head_attention[0][0]']   \n",
      " pth)                                                                                             \n",
      "                                                                                                  \n",
      " add (Add)                      (None, 1444, 128)    0           ['stochastic_depth[0][0]',       \n",
      "                                                                  'tf.__operators__.add[0][0]']   \n",
      "                                                                                                  \n",
      " layer_normalization_1 (LayerNo  (None, 1444, 128)   256         ['add[0][0]']                    \n",
      " rmalization)                                                                                     \n",
      "                                                                                                  \n",
      " dense (Dense)                  (None, 1444, 128)    16512       ['layer_normalization_1[0][0]']  \n",
      "                                                                                                  \n",
      " dropout (Dropout)              (None, 1444, 128)    0           ['dense[0][0]']                  \n",
      "                                                                                                  \n",
      " dense_1 (Dense)                (None, 1444, 128)    16512       ['dropout[0][0]']                \n",
      "                                                                                                  \n",
      " dropout_1 (Dropout)            (None, 1444, 128)    0           ['dense_1[0][0]']                \n",
      "                                                                                                  \n",
      " stochastic_depth_1 (Stochastic  (None, 1444, 128)   0           ['dropout_1[0][0]']              \n",
      " Depth)                                                                                           \n",
      "                                                                                                  \n",
      " add_1 (Add)                    (None, 1444, 128)    0           ['stochastic_depth_1[0][0]',     \n",
      "                                                                  'add[0][0]']                    \n",
      "                                                                                                  \n",
      " layer_normalization_2 (LayerNo  (None, 1444, 128)   256         ['add_1[0][0]']                  \n",
      " rmalization)                                                                                     \n",
      "                                                                                                  \n",
      " multi_head_attention_1 (MultiH  (None, 1444, 128)   131968      ['layer_normalization_2[0][0]',  \n",
      " eadAttention)                                                    'layer_normalization_2[0][0]']  \n",
      "                                                                                                  \n",
      " stochastic_depth_2 (Stochastic  (None, 1444, 128)   0           ['multi_head_attention_1[0][0]'] \n",
      " Depth)                                                                                           \n",
      "                                                                                                  \n",
      " add_2 (Add)                    (None, 1444, 128)    0           ['stochastic_depth_2[0][0]',     \n",
      "                                                                  'add_1[0][0]']                  \n",
      "                                                                                                  \n",
      " layer_normalization_3 (LayerNo  (None, 1444, 128)   256         ['add_2[0][0]']                  \n",
      " rmalization)                                                                                     \n",
      "                                                                                                  \n",
      " dense_2 (Dense)                (None, 1444, 128)    16512       ['layer_normalization_3[0][0]']  \n",
      "                                                                                                  \n",
      " dropout_2 (Dropout)            (None, 1444, 128)    0           ['dense_2[0][0]']                \n",
      "                                                                                                  \n",
      " dense_3 (Dense)                (None, 1444, 128)    16512       ['dropout_2[0][0]']              \n",
      "                                                                                                  \n",
      " dropout_3 (Dropout)            (None, 1444, 128)    0           ['dense_3[0][0]']                \n",
      "                                                                                                  \n",
      " stochastic_depth_3 (Stochastic  (None, 1444, 128)   0           ['dropout_3[0][0]']              \n",
      " Depth)                                                                                           \n",
      "                                                                                                  \n",
      " add_3 (Add)                    (None, 1444, 128)    0           ['stochastic_depth_3[0][0]',     \n",
      "                                                                  'add_2[0][0]']                  \n",
      "                                                                                                  \n",
      " layer_normalization_4 (LayerNo  (None, 1444, 128)   256         ['add_3[0][0]']                  \n",
      " rmalization)                                                                                     \n",
      "                                                                                                  \n",
      " dense_4 (Dense)                (None, 1444, 1)      129         ['layer_normalization_4[0][0]']  \n",
      "                                                                                                  \n",
      " tf.nn.softmax (TFOpLambda)     (None, 1444, 1)      0           ['dense_4[0][0]']                \n",
      "                                                                                                  \n",
      " tf.linalg.matmul (TFOpLambda)  (None, 1, 128)       0           ['tf.nn.softmax[0][0]',          \n",
      "                                                                  'layer_normalization_4[0][0]']  \n",
      "                                                                                                  \n",
      " tf.compat.v1.squeeze (TFOpLamb  (None, 128)         0           ['tf.linalg.matmul[0][0]']       \n",
      " da)                                                                                              \n"
     ]
    },
    {
     "name": "stdout",
     "output_type": "stream",
     "text": [
      "                                                                                                  \n",
      " classifier (Dense)             (None, 1)            129         ['tf.compat.v1.squeeze[0][0]']   \n",
      "                                                                                                  \n",
      "==================================================================================================\n",
      "Total params: 405,826\n",
      "Trainable params: 405,826\n",
      "Non-trainable params: 0\n",
      "__________________________________________________________________________________________________\n"
     ]
    }
   ],
   "source": [
    "model.summary()"
   ]
  },
  {
   "cell_type": "code",
   "execution_count": 22,
   "id": "b06e8c6f",
   "metadata": {},
   "outputs": [
    {
     "name": "stdout",
     "output_type": "stream",
     "text": [
      "Epoch 1/50\n",
      "253/253 [==============================] - 52s 192ms/step - loss: 0.7053 - accuracy: 1.0000 - auc: 0.5344 - val_loss: 0.6699 - val_accuracy: 1.0000 - val_auc: 0.6190\n",
      "Epoch 2/50\n",
      "253/253 [==============================] - 49s 192ms/step - loss: 0.6721 - accuracy: 1.0000 - auc: 0.6176 - val_loss: 0.6446 - val_accuracy: 1.0000 - val_auc: 0.6763\n",
      "Epoch 3/50\n",
      "253/253 [==============================] - 50s 199ms/step - loss: 0.6523 - accuracy: 1.0000 - auc: 0.6654 - val_loss: 0.6229 - val_accuracy: 1.0000 - val_auc: 0.7115\n",
      "Epoch 4/50\n",
      "253/253 [==============================] - 52s 204ms/step - loss: 0.6292 - accuracy: 1.0000 - auc: 0.7006 - val_loss: 0.7798 - val_accuracy: 1.0000 - val_auc: 0.8052\n",
      "Epoch 5/50\n",
      "253/253 [==============================] - 52s 206ms/step - loss: 0.5860 - accuracy: 1.0000 - auc: 0.7532 - val_loss: 0.5150 - val_accuracy: 1.0000 - val_auc: 0.8520\n",
      "Epoch 6/50\n",
      "253/253 [==============================] - 53s 208ms/step - loss: 0.5599 - accuracy: 1.0000 - auc: 0.7832 - val_loss: 0.5611 - val_accuracy: 1.0000 - val_auc: 0.8824\n",
      "Epoch 7/50\n",
      "253/253 [==============================] - 53s 208ms/step - loss: 0.5096 - accuracy: 1.0000 - auc: 0.8258 - val_loss: 0.6504 - val_accuracy: 1.0000 - val_auc: 0.8670\n",
      "Epoch 8/50\n",
      "253/253 [==============================] - 53s 208ms/step - loss: 0.4830 - accuracy: 1.0000 - auc: 0.8450 - val_loss: 0.4110 - val_accuracy: 1.0000 - val_auc: 0.9106\n",
      "Epoch 9/50\n",
      "253/253 [==============================] - 53s 208ms/step - loss: 0.4571 - accuracy: 1.0000 - auc: 0.8635 - val_loss: 0.4159 - val_accuracy: 1.0000 - val_auc: 0.9168\n",
      "Epoch 10/50\n",
      "253/253 [==============================] - 53s 208ms/step - loss: 0.4429 - accuracy: 1.0000 - auc: 0.8727 - val_loss: 0.4982 - val_accuracy: 1.0000 - val_auc: 0.8834\n",
      "Epoch 11/50\n",
      "253/253 [==============================] - 53s 210ms/step - loss: 0.3928 - accuracy: 1.0000 - auc: 0.9029 - val_loss: 0.3053 - val_accuracy: 1.0000 - val_auc: 0.9526\n",
      "Epoch 12/50\n",
      "253/253 [==============================] - 53s 210ms/step - loss: 0.3481 - accuracy: 1.0000 - auc: 0.9254 - val_loss: 0.2419 - val_accuracy: 1.0000 - val_auc: 0.9653\n",
      "Epoch 13/50\n",
      "253/253 [==============================] - 53s 210ms/step - loss: 0.3442 - accuracy: 1.0000 - auc: 0.9261 - val_loss: 0.2584 - val_accuracy: 1.0000 - val_auc: 0.9624\n",
      "Epoch 14/50\n",
      "253/253 [==============================] - 53s 210ms/step - loss: 0.3297 - accuracy: 1.0000 - auc: 0.9322 - val_loss: 0.2930 - val_accuracy: 1.0000 - val_auc: 0.9741\n",
      "Epoch 15/50\n",
      "253/253 [==============================] - 53s 209ms/step - loss: 0.3007 - accuracy: 1.0000 - auc: 0.9443 - val_loss: 0.4351 - val_accuracy: 1.0000 - val_auc: 0.9638\n",
      "Epoch 16/50\n",
      "253/253 [==============================] - 53s 209ms/step - loss: 0.2846 - accuracy: 1.0000 - auc: 0.9505 - val_loss: 0.3978 - val_accuracy: 1.0000 - val_auc: 0.9403\n",
      "Epoch 17/50\n",
      "253/253 [==============================] - 53s 208ms/step - loss: 0.2660 - accuracy: 1.0000 - auc: 0.9570 - val_loss: 0.2428 - val_accuracy: 1.0000 - val_auc: 0.9697\n",
      "Epoch 18/50\n",
      "253/253 [==============================] - 53s 208ms/step - loss: 0.2490 - accuracy: 1.0000 - auc: 0.9627 - val_loss: 0.1728 - val_accuracy: 1.0000 - val_auc: 0.9835\n",
      "Epoch 19/50\n",
      "253/253 [==============================] - 53s 208ms/step - loss: 0.2434 - accuracy: 1.0000 - auc: 0.9638 - val_loss: 0.1693 - val_accuracy: 1.0000 - val_auc: 0.9854\n",
      "Epoch 20/50\n",
      "253/253 [==============================] - 53s 208ms/step - loss: 0.2353 - accuracy: 1.0000 - auc: 0.9665 - val_loss: 0.1779 - val_accuracy: 1.0000 - val_auc: 0.9824\n",
      "Epoch 21/50\n",
      "253/253 [==============================] - 53s 208ms/step - loss: 0.2345 - accuracy: 1.0000 - auc: 0.9665 - val_loss: 0.1709 - val_accuracy: 1.0000 - val_auc: 0.9909\n",
      "Epoch 22/50\n",
      "253/253 [==============================] - 53s 208ms/step - loss: 0.2385 - accuracy: 1.0000 - auc: 0.9653 - val_loss: 0.2116 - val_accuracy: 1.0000 - val_auc: 0.9829\n",
      "Epoch 23/50\n",
      "253/253 [==============================] - 53s 208ms/step - loss: 0.2253 - accuracy: 1.0000 - auc: 0.9692 - val_loss: 0.2031 - val_accuracy: 1.0000 - val_auc: 0.9831\n",
      "Epoch 24/50\n",
      "253/253 [==============================] - 53s 208ms/step - loss: 0.2341 - accuracy: 1.0000 - auc: 0.9666 - val_loss: 0.1483 - val_accuracy: 1.0000 - val_auc: 0.9905\n",
      "Epoch 25/50\n",
      "253/253 [==============================] - 53s 208ms/step - loss: 0.2231 - accuracy: 1.0000 - auc: 0.9699 - val_loss: 0.2423 - val_accuracy: 1.0000 - val_auc: 0.9840\n",
      "Epoch 26/50\n",
      "253/253 [==============================] - 53s 208ms/step - loss: 0.2182 - accuracy: 1.0000 - auc: 0.9711 - val_loss: 0.1297 - val_accuracy: 1.0000 - val_auc: 0.9910\n",
      "Epoch 27/50\n",
      "253/253 [==============================] - 53s 208ms/step - loss: 0.2140 - accuracy: 1.0000 - auc: 0.9720 - val_loss: 0.2125 - val_accuracy: 1.0000 - val_auc: 0.9757\n",
      "Epoch 28/50\n",
      "253/253 [==============================] - 52s 207ms/step - loss: 0.1955 - accuracy: 1.0000 - auc: 0.9770 - val_loss: 0.1208 - val_accuracy: 1.0000 - val_auc: 0.9907\n",
      "Epoch 29/50\n",
      "253/253 [==============================] - 52s 207ms/step - loss: 0.2013 - accuracy: 1.0000 - auc: 0.9752 - val_loss: 0.1901 - val_accuracy: 1.0000 - val_auc: 0.9810\n",
      "Epoch 30/50\n",
      "253/253 [==============================] - 52s 207ms/step - loss: 0.2056 - accuracy: 1.0000 - auc: 0.9743 - val_loss: 0.1928 - val_accuracy: 1.0000 - val_auc: 0.9870\n",
      "Epoch 31/50\n",
      "253/253 [==============================] - 52s 207ms/step - loss: 0.1960 - accuracy: 1.0000 - auc: 0.9767 - val_loss: 0.1716 - val_accuracy: 1.0000 - val_auc: 0.9836\n",
      "Epoch 32/50\n",
      "253/253 [==============================] - 53s 209ms/step - loss: 0.1902 - accuracy: 1.0000 - auc: 0.9781 - val_loss: 0.1125 - val_accuracy: 1.0000 - val_auc: 0.9925\n",
      "Epoch 33/50\n",
      "253/253 [==============================] - 52s 207ms/step - loss: 0.2041 - accuracy: 1.0000 - auc: 0.9747 - val_loss: 0.3108 - val_accuracy: 1.0000 - val_auc: 0.9864\n",
      "Epoch 34/50\n",
      "253/253 [==============================] - 52s 207ms/step - loss: 0.1905 - accuracy: 1.0000 - auc: 0.9780 - val_loss: 0.1623 - val_accuracy: 1.0000 - val_auc: 0.9870\n",
      "Epoch 35/50\n",
      "253/253 [==============================] - 53s 209ms/step - loss: 0.1919 - accuracy: 1.0000 - auc: 0.9776 - val_loss: 0.2295 - val_accuracy: 1.0000 - val_auc: 0.9864\n",
      "Epoch 36/50\n",
      "253/253 [==============================] - 53s 209ms/step - loss: 0.1896 - accuracy: 1.0000 - auc: 0.9781 - val_loss: 0.1674 - val_accuracy: 1.0000 - val_auc: 0.9853\n",
      "Epoch 37/50\n",
      "253/253 [==============================] - 53s 209ms/step - loss: 0.1899 - accuracy: 1.0000 - auc: 0.9779 - val_loss: 0.2086 - val_accuracy: 1.0000 - val_auc: 0.9884\n",
      "Epoch 38/50\n",
      "253/253 [==============================] - 53s 209ms/step - loss: 0.1846 - accuracy: 1.0000 - auc: 0.9795 - val_loss: 0.1640 - val_accuracy: 1.0000 - val_auc: 0.9898\n",
      "Epoch 39/50\n",
      "253/253 [==============================] - 54s 212ms/step - loss: 0.1828 - accuracy: 1.0000 - auc: 0.9796 - val_loss: 0.2632 - val_accuracy: 1.0000 - val_auc: 0.9730\n",
      "Epoch 40/50\n",
      "253/253 [==============================] - 54s 213ms/step - loss: 0.1708 - accuracy: 1.0000 - auc: 0.9823 - val_loss: 0.1290 - val_accuracy: 1.0000 - val_auc: 0.9908\n",
      "Epoch 41/50\n",
      "253/253 [==============================] - 54s 212ms/step - loss: 0.1841 - accuracy: 1.0000 - auc: 0.9794 - val_loss: 0.1690 - val_accuracy: 1.0000 - val_auc: 0.9932\n",
      "Epoch 42/50\n",
      "253/253 [==============================] - 54s 213ms/step - loss: 0.1760 - accuracy: 1.0000 - auc: 0.9812 - val_loss: 0.1615 - val_accuracy: 1.0000 - val_auc: 0.9852\n",
      "Epoch 43/50\n",
      "253/253 [==============================] - 54s 213ms/step - loss: 0.1730 - accuracy: 1.0000 - auc: 0.9819 - val_loss: 0.3211 - val_accuracy: 1.0000 - val_auc: 0.9655\n",
      "Epoch 44/50\n",
      "253/253 [==============================] - 54s 212ms/step - loss: 0.1844 - accuracy: 1.0000 - auc: 0.9792 - val_loss: 0.2360 - val_accuracy: 1.0000 - val_auc: 0.9859\n",
      "Epoch 45/50\n",
      "253/253 [==============================] - 54s 212ms/step - loss: 0.1835 - accuracy: 1.0000 - auc: 0.9794 - val_loss: 0.1348 - val_accuracy: 1.0000 - val_auc: 0.9908\n",
      "Epoch 46/50\n",
      "253/253 [==============================] - 53s 211ms/step - loss: 0.1748 - accuracy: 1.0000 - auc: 0.9814 - val_loss: 0.1178 - val_accuracy: 1.0000 - val_auc: 0.9933\n",
      "Epoch 47/50\n"
     ]
    },
    {
     "name": "stdout",
     "output_type": "stream",
     "text": [
      "253/253 [==============================] - 53s 211ms/step - loss: 0.1890 - accuracy: 1.0000 - auc: 0.9783 - val_loss: 0.0938 - val_accuracy: 1.0000 - val_auc: 0.9949\n",
      "Epoch 48/50\n",
      "253/253 [==============================] - 53s 211ms/step - loss: 0.1826 - accuracy: 1.0000 - auc: 0.9798 - val_loss: 0.3078 - val_accuracy: 1.0000 - val_auc: 0.9781\n",
      "Epoch 49/50\n",
      "253/253 [==============================] - 53s 210ms/step - loss: 0.1865 - accuracy: 1.0000 - auc: 0.9788 - val_loss: 0.1140 - val_accuracy: 1.0000 - val_auc: 0.9932\n",
      "Epoch 50/50\n",
      "253/253 [==============================] - 53s 211ms/step - loss: 0.1663 - accuracy: 1.0000 - auc: 0.9834 - val_loss: 0.1153 - val_accuracy: 1.0000 - val_auc: 0.9929\n",
      "\n",
      "Best validation AUC is 0.9949138164520264 on epoch #47\n"
     ]
    }
   ],
   "source": [
    "train_generator = RandomSampleGenerator(X_train, y_train, batch_size)\n",
    "callbacks = [TrackBestPerformance(CKP_PATH)]\n",
    "history = model.fit(train_generator, \n",
    "                    validation_data=(X_val, y_val),\n",
    "                        epochs=num_epochs, \n",
    "                    callbacks=callbacks,\n",
    "                        verbose=1)"
   ]
  },
  {
   "cell_type": "markdown",
   "id": "9cc5a2d8",
   "metadata": {},
   "source": [
    "# Model Evaluation"
   ]
  },
  {
   "cell_type": "code",
   "execution_count": 24,
   "id": "1a0b9d74",
   "metadata": {},
   "outputs": [
    {
     "name": "stdout",
     "output_type": "stream",
     "text": [
      "32/32 [==============================] - 2s 57ms/step - loss: 0.0963 - accuracy: 1.0000 - auc: 0.9954\n",
      "Test accuracy: 100.0%\n",
      "Test auc: 99.54%\n"
     ]
    }
   ],
   "source": [
    "  _, accuracy, test_acc = model.evaluate(X_test, y_test)\n",
    "print(f\"Test accuracy: {round(accuracy * 100, 2)}%\")\n",
    "print(f\"Test auc: {round(test_acc * 100, 2)}%\")"
   ]
  },
  {
   "cell_type": "code",
   "execution_count": 27,
   "id": "8e8fc20c",
   "metadata": {},
   "outputs": [],
   "source": [
    "def plot_accuracy(history,title):\n",
    "    plt.title(title)\n",
    "    plt.plot(history.history['auc']) \n",
    "    plt.plot(history.history['val_auc']) \n",
    "    plt.ylabel('accuracy')\n",
    "    plt.xlabel('epoch')\n",
    "    plt.legend(['train_accuracy'], loc='best')\n",
    "    plt.show()\n",
    "\n",
    "\n",
    "def plot_loss(history,title):\n",
    "    plt.title(title)\n",
    "    plt.plot(history.history['loss'])\n",
    "    plt.plot(history.history['val_loss'])\n",
    "    plt.ylabel('loss')\n",
    "    plt.xlabel('epoch')\n",
    "    plt.legend(['train_loss'], loc='best')\n",
    "    plt.show()"
   ]
  },
  {
   "cell_type": "code",
   "execution_count": 30,
   "id": "0ce67b7f",
   "metadata": {},
   "outputs": [
    {
     "data": {
      "image/png": "[encoded data removed]",
      "text/plain": [
       "<Figure size 432x288 with 1 Axes>"
      ]
     },
     "metadata": {
      "needs_background": "light"
     },
     "output_type": "display_data"
    },
    {
     "data": {
      "image/png": "[encoded data removed]",
      "text/plain": [
       "<Figure size 432x288 with 1 Axes>"
      ]
     },
     "metadata": {
      "needs_background": "light"
     },
     "output_type": "display_data"
    }
   ],
   "source": [
    "plot_accuracy(history,'classifying the images into lenses-auc-Plot')\n",
    "plot_loss(history,'classifying the images into lenses-Loss-Plot')"
   ]
  },
  {
   "cell_type": "code",
   "execution_count": 52,
   "id": "b2055787",
   "metadata": {},
   "outputs": [
    {
     "name": "stdout",
     "output_type": "stream",
     "text": [
      "              precision    recall  f1-score   support\n",
      "\n",
      "           0       0.96      0.96      0.96       492\n",
      "           1       0.96      0.96      0.96       508\n",
      "\n",
      "    accuracy                           0.96      1000\n",
      "   macro avg       0.96      0.96      0.96      1000\n",
      "weighted avg       0.96      0.96      0.96      1000\n",
      "\n"
     ]
    }
   ],
   "source": [
    "# train your binary classifier and obtain the predicted class labels for your test data\n",
    "y_pred = model.predict(X_test)\n",
    "\n",
    "# convert the predicted class labels to binary class labels\n",
    "y_pred_bin = binarize(y_pred.reshape(1,-1), threshold=0.5)[0]\n",
    "\n",
    "# generate the classification report\n",
    "print(classification_report(y_test, y_pred_bin))"
   ]
  },
  {
   "cell_type": "code",
   "execution_count": 58,
   "id": "8f0556ef",
   "metadata": {},
   "outputs": [
    {
     "name": "stdout",
     "output_type": "stream",
     "text": [
      "Confusion Matrix:\n",
      "[[473  19]\n",
      " [ 19 489]]\n"
     ]
    }
   ],
   "source": [
    "print(\"Confusion Matrix:\")\n",
    "cm = confusion_matrix(y_test, y_pred_bin)\n",
    "print(cm)"
   ]
  },
  {
   "cell_type": "code",
   "execution_count": 54,
   "id": "23713329",
   "metadata": {},
   "outputs": [],
   "source": [
    "# Confusion Matrix visualization\n",
    "def plot_confusion_matrix(cm, classes, normalize=False, title='Confusion Matrix', cmap=plt.cm.Blues):\n",
    "    plt.imshow(cm, interpolation='nearest', cmap=cmap)\n",
    "    plt.title(title)\n",
    "    plt.colorbar()\n",
    "    tick_marks = np.arange(len(classes))\n",
    "    plt.xticks(tick_marks, classes, rotation=45)\n",
    "    plt.yticks(tick_marks, classes)\n",
    "\n",
    "    if normalize:\n",
    "        cm = cm.astype('float') / cm.sum(axis=1)[:, np.newaxis]\n",
    "\n",
    "    thresh = cm.max() / 2.\n",
    "    for i, j in itertools.product(range(cm.shape[0]), range(cm.shape[1])):\n",
    "        plt.text(j, i, cm[i, j], horizontalalignment=\"center\", color=\"white\" if cm[i, j] > thresh else \"black\")\n",
    "\n",
    "    plt.tight_layout()\n",
    "    plt.ylabel('True label')\n",
    "    plt.xlabel('Predicted label')"
   ]
  },
  {
   "cell_type": "code",
   "execution_count": 61,
   "id": "2d2a8a88",
   "metadata": {},
   "outputs": [
    {
     "data": {
      "image/png": "[encoded data removed]",
      "text/plain": [
       "<Figure size 720x720 with 2 Axes>"
      ]
     },
     "metadata": {
      "needs_background": "light"
     },
     "output_type": "display_data"
    }
   ],
   "source": [
    "# Plot  confusion matrix\n",
    "plt.figure(figsize=(10, 10))\n",
    "plot_confusion_matrix(cm, CATEGORIES, normalize=False, title='Normalized confusion matrix')\n",
    "display()"
   ]
  },
  {
   "cell_type": "code",
   "execution_count": 62,
   "id": "9cfa0bf8",
   "metadata": {},
   "outputs": [
    {
     "data": {
      "image/png": "[encoded data removed]",
      "text/plain": [
       "<Figure size 720x720 with 2 Axes>"
      ]
     },
     "metadata": {
      "needs_background": "light"
     },
     "output_type": "display_data"
    }
   ],
   "source": [
    "# Plot normalized confusion matrix\n",
    "plt.figure(figsize=(10, 10))\n",
    "plot_confusion_matrix(cm, classes=['no', 'sphere', 'vort'], normalize=True, title='Normalized confusion matrix')\n",
    "display()"
   ]
  },
  {
   "cell_type": "code",
   "execution_count": 76,
   "id": "67da4d98",
   "metadata": {},
   "outputs": [
    {
     "data": {
      "image/png": "[encoded data removed]",
      "text/plain": [
       "<Figure size 432x288 with 1 Axes>"
      ]
     },
     "metadata": {
      "needs_background": "light"
     },
     "output_type": "display_data"
    }
   ],
   "source": [
    "# compute the false positive rate (fpr), true positive rate (tpr), and threshold values for the ROC curve\n",
    "fpr, tpr, thresholds = roc_curve(y_test, y_pred_bin)\n",
    "\n",
    "# compute the area under the ROC curve\n",
    "roc_auc = auc(fpr, tpr)\n",
    "\n",
    "# plot the ROC curve\n",
    "plt.figure()\n",
    "lw = 2\n",
    "plt.plot(fpr, tpr, color='darkorange',\n",
    "         lw=lw, label='ROC curve (AUC = %0.2f)' % roc_auc)\n",
    "plt.plot([0, 1], [0, 1], color='navy', lw=lw, linestyle='--')\n",
    "plt.xlim([0.0, 1.0])\n",
    "plt.ylim([0.0, 1.05])\n",
    "plt.xlabel('False Positive Rate')\n",
    "plt.ylabel('True Positive Rate')\n",
    "plt.title('Receiver operating characteristic curve')\n",
    "plt.legend(loc=\"lower right\")\n",
    "plt.show()"
   ]
  },
  {
   "cell_type": "markdown",
   "id": "a69851af",
   "metadata": {},
   "source": [
    "# save the model"
   ]
  },
  {
   "cell_type": "code",
   "execution_count": 77,
   "id": "1f2822f6",
   "metadata": {},
   "outputs": [],
   "source": [
    "SAVE_MODEL_WEIGHTS_PATH = os.path.join(OUTPATH, 'model_weights') \n",
    "os.makedirs(SAVE_MODEL_WEIGHTS_PATH)"
   ]
  },
  {
   "cell_type": "code",
   "execution_count": 80,
   "id": "d90840dc",
   "metadata": {},
   "outputs": [],
   "source": [
    "model.save_weights(SAVE_MODEL_WEIGHTS_PATH+'\\LensCCT.hdf5')"
   ]
  }
 ],
 "metadata": {
  "kernelspec": {
   "display_name": "Python 3 (ipykernel)",
   "language": "python",
   "name": "python3"
  },
  "language_info": {
   "codemirror_mode": {
    "name": "ipython",
    "version": 3
   },
   "file_extension": ".py",
   "mimetype": "text/x-python",
   "name": "python",
   "nbconvert_exporter": "python",
   "pygments_lexer": "ipython3",
   "version": "3.9.7"
  }
 },
 "nbformat": 4,
 "nbformat_minor": 5
}
